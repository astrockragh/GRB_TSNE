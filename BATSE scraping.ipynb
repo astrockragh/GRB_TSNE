{
 "cells": [
  {
   "cell_type": "code",
   "execution_count": 1,
   "metadata": {
    "ExecuteTime": {
     "end_time": "2021-04-06T09:56:33.873822Z",
     "start_time": "2021-04-06T09:56:31.687458Z"
    }
   },
   "outputs": [],
   "source": [
    "import numpy as np\n",
    "import matplotlib.pyplot as plt\n",
    "import pandas as pd\n",
    "import requests\n",
    "from bs4 import BeautifulSoup\n",
    "from astropy.utils.data import download_file\n",
    "import shutil\n",
    "import sys\n",
    "from tqdm import tqdm"
   ]
  },
  {
   "cell_type": "markdown",
   "metadata": {},
   "source": [
    "### Getting duration + other information"
   ]
  },
  {
   "cell_type": "code",
   "execution_count": 105,
   "metadata": {
    "ExecuteTime": {
     "end_time": "2021-02-03T10:04:39.346219Z",
     "start_time": "2021-02-03T10:04:38.239572Z"
    }
   },
   "outputs": [
    {
     "name": "stderr",
     "output_type": "stream",
     "text": [
      "C:\\Users\\chris\\Anaconda3\\lib\\site-packages\\ipykernel_launcher.py:7: ParserWarning: Falling back to the 'python' engine because the 'c' engine does not support regex separators (separators > 1 char and different from '\\s+' are interpreted as regex); you can avoid this warning by specifying engine='python'.\n",
      "  import sys\n"
     ]
    },
    {
     "data": {
      "text/html": [
       "<div>\n",
       "<style scoped>\n",
       "    .dataframe tbody tr th:only-of-type {\n",
       "        vertical-align: middle;\n",
       "    }\n",
       "\n",
       "    .dataframe tbody tr th {\n",
       "        vertical-align: top;\n",
       "    }\n",
       "\n",
       "    .dataframe thead th {\n",
       "        text-align: right;\n",
       "    }\n",
       "</style>\n",
       "<table border=\"1\" class=\"dataframe\">\n",
       "  <thead>\n",
       "    <tr style=\"text-align: right;\">\n",
       "      <th></th>\n",
       "      <th>T50</th>\n",
       "      <th>sigma_T50</th>\n",
       "      <th>start_T50</th>\n",
       "      <th>T90</th>\n",
       "      <th>sigma_T90</th>\n",
       "      <th>start_T90</th>\n",
       "    </tr>\n",
       "    <tr>\n",
       "      <th>Trigger</th>\n",
       "      <th></th>\n",
       "      <th></th>\n",
       "      <th></th>\n",
       "      <th></th>\n",
       "      <th></th>\n",
       "      <th></th>\n",
       "    </tr>\n",
       "  </thead>\n",
       "  <tbody>\n",
       "    <tr>\n",
       "      <th>105</th>\n",
       "      <td>1.792</td>\n",
       "      <td>0.202</td>\n",
       "      <td>2.304</td>\n",
       "      <td>5.184</td>\n",
       "      <td>0.181</td>\n",
       "      <td>0.512</td>\n",
       "    </tr>\n",
       "    <tr>\n",
       "      <th>107</th>\n",
       "      <td>68.608</td>\n",
       "      <td>3.238</td>\n",
       "      <td>-168.960</td>\n",
       "      <td>208.576</td>\n",
       "      <td>1.118</td>\n",
       "      <td>-208.896</td>\n",
       "    </tr>\n",
       "    <tr>\n",
       "      <th>108</th>\n",
       "      <td>1.280</td>\n",
       "      <td>1.574</td>\n",
       "      <td>-0.960</td>\n",
       "      <td>3.136</td>\n",
       "      <td>0.590</td>\n",
       "      <td>-1.536</td>\n",
       "    </tr>\n",
       "    <tr>\n",
       "      <th>109</th>\n",
       "      <td>47.104</td>\n",
       "      <td>0.143</td>\n",
       "      <td>14.912</td>\n",
       "      <td>90.176</td>\n",
       "      <td>0.286</td>\n",
       "      <td>4.224</td>\n",
       "    </tr>\n",
       "    <tr>\n",
       "      <th>110</th>\n",
       "      <td>306.368</td>\n",
       "      <td>3.304</td>\n",
       "      <td>-196.096</td>\n",
       "      <td>430.016</td>\n",
       "      <td>1.094</td>\n",
       "      <td>-259.584</td>\n",
       "    </tr>\n",
       "    <tr>\n",
       "      <th>...</th>\n",
       "      <td>...</td>\n",
       "      <td>...</td>\n",
       "      <td>...</td>\n",
       "      <td>...</td>\n",
       "      <td>...</td>\n",
       "      <td>...</td>\n",
       "    </tr>\n",
       "    <tr>\n",
       "      <th>8111</th>\n",
       "      <td>3.840</td>\n",
       "      <td>0.091</td>\n",
       "      <td>4.224</td>\n",
       "      <td>14.592</td>\n",
       "      <td>1.218</td>\n",
       "      <td>0.448</td>\n",
       "    </tr>\n",
       "    <tr>\n",
       "      <th>8112</th>\n",
       "      <td>3.776</td>\n",
       "      <td>1.506</td>\n",
       "      <td>-1.728</td>\n",
       "      <td>14.976</td>\n",
       "      <td>3.586</td>\n",
       "      <td>-9.216</td>\n",
       "    </tr>\n",
       "    <tr>\n",
       "      <th>8116</th>\n",
       "      <td>22.016</td>\n",
       "      <td>0.231</td>\n",
       "      <td>3.712</td>\n",
       "      <td>49.984</td>\n",
       "      <td>0.792</td>\n",
       "      <td>0.384</td>\n",
       "    </tr>\n",
       "    <tr>\n",
       "      <th>8120</th>\n",
       "      <td>0.896</td>\n",
       "      <td>0.091</td>\n",
       "      <td>0.192</td>\n",
       "      <td>1.408</td>\n",
       "      <td>0.091</td>\n",
       "      <td>-0.064</td>\n",
       "    </tr>\n",
       "    <tr>\n",
       "      <th>8121</th>\n",
       "      <td>15.424</td>\n",
       "      <td>0.326</td>\n",
       "      <td>2.176</td>\n",
       "      <td>36.864</td>\n",
       "      <td>1.793</td>\n",
       "      <td>-3.072</td>\n",
       "    </tr>\n",
       "  </tbody>\n",
       "</table>\n",
       "<p>2041 rows × 6 columns</p>\n",
       "</div>"
      ],
      "text/plain": [
       "             T50  sigma_T50  start_T50      T90  sigma_T90  start_T90\n",
       "Trigger                                                              \n",
       "105        1.792      0.202      2.304    5.184      0.181      0.512\n",
       "107       68.608      3.238   -168.960  208.576      1.118   -208.896\n",
       "108        1.280      1.574     -0.960    3.136      0.590     -1.536\n",
       "109       47.104      0.143     14.912   90.176      0.286      4.224\n",
       "110      306.368      3.304   -196.096  430.016      1.094   -259.584\n",
       "...          ...        ...        ...      ...        ...        ...\n",
       "8111       3.840      0.091      4.224   14.592      1.218      0.448\n",
       "8112       3.776      1.506     -1.728   14.976      3.586     -9.216\n",
       "8116      22.016      0.231      3.712   49.984      0.792      0.384\n",
       "8120       0.896      0.091      0.192    1.408      0.091     -0.064\n",
       "8121      15.424      0.326      2.176   36.864      1.793     -3.072\n",
       "\n",
       "[2041 rows x 6 columns]"
      ]
     },
     "execution_count": 105,
     "metadata": {},
     "output_type": "execute_result"
    }
   ],
   "source": [
    "# duration\n",
    "url='https://batse.msfc.nasa.gov/batse/grb/catalog/current/tables/duration_table.txt'\n",
    "tmp_path = download_file(url)\n",
    "lc_path = \"LC/duration_table.csv\"\n",
    "shutil.move(tmp_path, lc_path)\n",
    "header=['Trigger', 'T50', 'sigma_T50', 'start_T50','T90', 'sigma_T90', 'start_T90']\n",
    "duration=pd.read_csv('LC/duration_table.csv', delimiter=\"    \",names=header) # the delimiter here is super weird but don't change it \n",
    "# duration.rename(columns=, inplace=True)\n",
    "# duration.columns=header\n",
    "duration.astype({'Trigger':int}) \n",
    "duration=duration.set_index(duration.columns[0])\n",
    "duration"
   ]
  },
  {
   "cell_type": "code",
   "execution_count": 103,
   "metadata": {
    "ExecuteTime": {
     "end_time": "2021-02-03T10:03:46.562356Z",
     "start_time": "2021-02-03T10:03:45.424371Z"
    }
   },
   "outputs": [
    {
     "data": {
      "text/html": [
       "<div>\n",
       "<style scoped>\n",
       "    .dataframe tbody tr th:only-of-type {\n",
       "        vertical-align: middle;\n",
       "    }\n",
       "\n",
       "    .dataframe tbody tr th {\n",
       "        vertical-align: top;\n",
       "    }\n",
       "\n",
       "    .dataframe thead th {\n",
       "        text-align: right;\n",
       "    }\n",
       "</style>\n",
       "<table border=\"1\" class=\"dataframe\">\n",
       "  <thead>\n",
       "    <tr style=\"text-align: right;\">\n",
       "      <th></th>\n",
       "      <th>catalogue</th>\n",
       "      <th>GRBname</th>\n",
       "      <th>Julian Date</th>\n",
       "      <th>time</th>\n",
       "      <th>RA</th>\n",
       "      <th>dec</th>\n",
       "      <th>gal_longi</th>\n",
       "      <th>gal_lati</th>\n",
       "      <th>r_errorbox</th>\n",
       "      <th>angle</th>\n",
       "      <th>overwrite</th>\n",
       "      <th>overwritten</th>\n",
       "    </tr>\n",
       "    <tr>\n",
       "      <th>Trigger</th>\n",
       "      <th></th>\n",
       "      <th></th>\n",
       "      <th></th>\n",
       "      <th></th>\n",
       "      <th></th>\n",
       "      <th></th>\n",
       "      <th></th>\n",
       "      <th></th>\n",
       "      <th></th>\n",
       "      <th></th>\n",
       "      <th></th>\n",
       "      <th></th>\n",
       "    </tr>\n",
       "  </thead>\n",
       "  <tbody>\n",
       "    <tr>\n",
       "      <th>105</th>\n",
       "      <td>4B</td>\n",
       "      <td>910421</td>\n",
       "      <td>8367</td>\n",
       "      <td>33243.7557</td>\n",
       "      <td>270.68</td>\n",
       "      <td>24.76</td>\n",
       "      <td>50.75</td>\n",
       "      <td>21.19</td>\n",
       "      <td>0.53</td>\n",
       "      <td>123.48</td>\n",
       "      <td>N</td>\n",
       "      <td>N</td>\n",
       "    </tr>\n",
       "    <tr>\n",
       "      <th>107</th>\n",
       "      <td>4B</td>\n",
       "      <td>910423</td>\n",
       "      <td>8369</td>\n",
       "      <td>71684.7155</td>\n",
       "      <td>193.47</td>\n",
       "      <td>-8.38</td>\n",
       "      <td>303.97</td>\n",
       "      <td>54.49</td>\n",
       "      <td>11.10</td>\n",
       "      <td>143.48</td>\n",
       "      <td>N</td>\n",
       "      <td>N</td>\n",
       "    </tr>\n",
       "    <tr>\n",
       "      <th>108</th>\n",
       "      <td>4B</td>\n",
       "      <td>910424</td>\n",
       "      <td>8370</td>\n",
       "      <td>71006.5715</td>\n",
       "      <td>201.31</td>\n",
       "      <td>-45.41</td>\n",
       "      <td>309.13</td>\n",
       "      <td>17.06</td>\n",
       "      <td>13.78</td>\n",
       "      <td>90.87</td>\n",
       "      <td>N</td>\n",
       "      <td>N</td>\n",
       "    </tr>\n",
       "    <tr>\n",
       "      <th>109</th>\n",
       "      <td>4B</td>\n",
       "      <td>910425-</td>\n",
       "      <td>8371</td>\n",
       "      <td>2265.7075</td>\n",
       "      <td>91.29</td>\n",
       "      <td>-22.77</td>\n",
       "      <td>228.99</td>\n",
       "      <td>-19.94</td>\n",
       "      <td>1.02</td>\n",
       "      <td>88.58</td>\n",
       "      <td>N</td>\n",
       "      <td>N</td>\n",
       "    </tr>\n",
       "    <tr>\n",
       "      <th>110</th>\n",
       "      <td>4B</td>\n",
       "      <td>910425-</td>\n",
       "      <td>8371</td>\n",
       "      <td>20253.2915</td>\n",
       "      <td>335.94</td>\n",
       "      <td>25.77</td>\n",
       "      <td>85.83</td>\n",
       "      <td>-26.27</td>\n",
       "      <td>4.79</td>\n",
       "      <td>81.93</td>\n",
       "      <td>N</td>\n",
       "      <td>N</td>\n",
       "    </tr>\n",
       "    <tr>\n",
       "      <th>...</th>\n",
       "      <td>...</td>\n",
       "      <td>...</td>\n",
       "      <td>...</td>\n",
       "      <td>...</td>\n",
       "      <td>...</td>\n",
       "      <td>...</td>\n",
       "      <td>...</td>\n",
       "      <td>...</td>\n",
       "      <td>...</td>\n",
       "      <td>...</td>\n",
       "      <td>...</td>\n",
       "      <td>...</td>\n",
       "    </tr>\n",
       "    <tr>\n",
       "      <th>8112</th>\n",
       "      <td>GRB</td>\n",
       "      <td>000520</td>\n",
       "      <td>11684</td>\n",
       "      <td>40535.8014</td>\n",
       "      <td>234.74</td>\n",
       "      <td>-0.31</td>\n",
       "      <td>5.64</td>\n",
       "      <td>41.31</td>\n",
       "      <td>3.09</td>\n",
       "      <td>79.88</td>\n",
       "      <td>N</td>\n",
       "      <td>N</td>\n",
       "    </tr>\n",
       "    <tr>\n",
       "      <th>8113</th>\n",
       "      <td>GRB</td>\n",
       "      <td>000521</td>\n",
       "      <td>11685</td>\n",
       "      <td>35265.7854</td>\n",
       "      <td>5.96</td>\n",
       "      <td>-6.25</td>\n",
       "      <td>104.25</td>\n",
       "      <td>-68.12</td>\n",
       "      <td>4.62</td>\n",
       "      <td>86.91</td>\n",
       "      <td>N</td>\n",
       "      <td>N</td>\n",
       "    </tr>\n",
       "    <tr>\n",
       "      <th>8116</th>\n",
       "      <td>GRB</td>\n",
       "      <td>000524</td>\n",
       "      <td>11688</td>\n",
       "      <td>545.5294</td>\n",
       "      <td>109.19</td>\n",
       "      <td>-41.36</td>\n",
       "      <td>252.93</td>\n",
       "      <td>-13.16</td>\n",
       "      <td>1.32</td>\n",
       "      <td>78.52</td>\n",
       "      <td>N</td>\n",
       "      <td>N</td>\n",
       "    </tr>\n",
       "    <tr>\n",
       "      <th>8120</th>\n",
       "      <td>GRB</td>\n",
       "      <td>000525</td>\n",
       "      <td>11689</td>\n",
       "      <td>37453.6894</td>\n",
       "      <td>280.22</td>\n",
       "      <td>-39.44</td>\n",
       "      <td>355.92</td>\n",
       "      <td>-14.95</td>\n",
       "      <td>2.75</td>\n",
       "      <td>126.48</td>\n",
       "      <td>N</td>\n",
       "      <td>N</td>\n",
       "    </tr>\n",
       "    <tr>\n",
       "      <th>8121</th>\n",
       "      <td>GRB</td>\n",
       "      <td>000526</td>\n",
       "      <td>11690</td>\n",
       "      <td>36093.6894</td>\n",
       "      <td>231.29</td>\n",
       "      <td>-10.32</td>\n",
       "      <td>353.05</td>\n",
       "      <td>37.17</td>\n",
       "      <td>0.95</td>\n",
       "      <td>108.41</td>\n",
       "      <td>N</td>\n",
       "      <td>N</td>\n",
       "    </tr>\n",
       "  </tbody>\n",
       "</table>\n",
       "<p>2702 rows × 12 columns</p>\n",
       "</div>"
      ],
      "text/plain": [
       "        catalogue  GRBname  Julian Date        time      RA    dec  gal_longi  \\\n",
       "Trigger                                                                         \n",
       "105            4B   910421         8367  33243.7557  270.68  24.76      50.75   \n",
       "107            4B   910423         8369  71684.7155  193.47  -8.38     303.97   \n",
       "108            4B   910424         8370  71006.5715  201.31 -45.41     309.13   \n",
       "109            4B  910425-         8371   2265.7075   91.29 -22.77     228.99   \n",
       "110            4B  910425-         8371  20253.2915  335.94  25.77      85.83   \n",
       "...           ...      ...          ...         ...     ...    ...        ...   \n",
       "8112          GRB   000520        11684  40535.8014  234.74  -0.31       5.64   \n",
       "8113          GRB   000521        11685  35265.7854    5.96  -6.25     104.25   \n",
       "8116          GRB   000524        11688    545.5294  109.19 -41.36     252.93   \n",
       "8120          GRB   000525        11689  37453.6894  280.22 -39.44     355.92   \n",
       "8121          GRB   000526        11690  36093.6894  231.29 -10.32     353.05   \n",
       "\n",
       "         gal_lati  r_errorbox   angle overwrite overwritten  \n",
       "Trigger                                                      \n",
       "105         21.19        0.53  123.48         N           N  \n",
       "107         54.49       11.10  143.48         N           N  \n",
       "108         17.06       13.78   90.87         N           N  \n",
       "109        -19.94        1.02   88.58         N           N  \n",
       "110        -26.27        4.79   81.93         N           N  \n",
       "...           ...         ...     ...       ...         ...  \n",
       "8112        41.31        3.09   79.88         N           N  \n",
       "8113       -68.12        4.62   86.91         N           N  \n",
       "8116       -13.16        1.32   78.52         N           N  \n",
       "8120       -14.95        2.75  126.48         N           N  \n",
       "8121        37.17        0.95  108.41         N           N  \n",
       "\n",
       "[2702 rows x 12 columns]"
      ]
     },
     "execution_count": 103,
     "metadata": {},
     "output_type": "execute_result"
    }
   ],
   "source": [
    "# basic info\n",
    "# url='https://gammaray.nsstc.nasa.gov/batse/grb/catalog/4b/tables/4br_grossc.basic' only 4b\n",
    "\n",
    "url='https://batse.msfc.nasa.gov/batse/grb/catalog/current/tables/basic_table.txt'\n",
    "tmp_path = download_file(url)\n",
    "lc_path = \"LC/basic_table.csv\"\n",
    "shutil.move(tmp_path, lc_path)\n",
    "header=['Trigger', 'catalogue','GRBname', 'Julian Date', 'time', 'RA', 'dec', 'gal_longi', 'gal_lati', 'r_errorbox', 'angle', 'overwrite', 'overwritten']\n",
    "info=pd.read_csv('LC/basic_table.csv', skiprows=0, sep=\"\\s+\",engine=\"python\",names=header) # the delimiter here is super weird but don't change it \n",
    "info.astype({'Trigger':int}) \n",
    "info=info.set_index(info.columns[0])\n",
    "info"
   ]
  },
  {
   "cell_type": "markdown",
   "metadata": {},
   "source": [
    "Note that there is no information on duration for about 100 bursts. The following is a check for all lightcurves!"
   ]
  },
  {
   "cell_type": "code",
   "execution_count": 108,
   "metadata": {
    "ExecuteTime": {
     "end_time": "2021-02-03T10:14:37.362864Z",
     "start_time": "2021-02-03T10:14:36.393390Z"
    }
   },
   "outputs": [],
   "source": [
    "url='https://batse.msfc.nasa.gov/batse/grb/catalog/current/tables/duration_table.txt'\n",
    "page = requests.get(url)\n",
    "soup = BeautifulSoup(page.content)\n",
    "k=soup.findAll('p')[0].get_text()"
   ]
  },
  {
   "cell_type": "code",
   "execution_count": 109,
   "metadata": {
    "ExecuteTime": {
     "end_time": "2021-02-03T10:14:39.657267Z",
     "start_time": "2021-02-03T10:14:39.650282Z"
    }
   },
   "outputs": [
    {
     "data": {
      "text/plain": [
       "['https://heasarc.gsfc.nasa.gov/FTP/compton/data/batse/ascii_data/64ms/trig00000/',\n",
       " 'https://heasarc.gsfc.nasa.gov/FTP/compton/data/batse/ascii_data/64ms/trig01000/',\n",
       " 'https://heasarc.gsfc.nasa.gov/FTP/compton/data/batse/ascii_data/64ms/trig02000/',\n",
       " 'https://heasarc.gsfc.nasa.gov/FTP/compton/data/batse/ascii_data/64ms/trig03000/',\n",
       " 'https://heasarc.gsfc.nasa.gov/FTP/compton/data/batse/ascii_data/64ms/trig04000/',\n",
       " 'https://heasarc.gsfc.nasa.gov/FTP/compton/data/batse/ascii_data/64ms/trig05000/',\n",
       " 'https://heasarc.gsfc.nasa.gov/FTP/compton/data/batse/ascii_data/64ms/trig06000/',\n",
       " 'https://heasarc.gsfc.nasa.gov/FTP/compton/data/batse/ascii_data/64ms/trig07000/',\n",
       " 'https://heasarc.gsfc.nasa.gov/FTP/compton/data/batse/ascii_data/64ms/trig08000/']"
      ]
     },
     "execution_count": 109,
     "metadata": {},
     "output_type": "execute_result"
    }
   ],
   "source": [
    "urls=[]\n",
    "baseurl=\"https://heasarc.gsfc.nasa.gov/FTP/compton/data/batse/ascii_data/64ms/\"\n",
    "urls=[baseurl+'trig0' + str(x) +'000/' for x in range(9)]\n",
    "urls"
   ]
  },
  {
   "cell_type": "code",
   "execution_count": 111,
   "metadata": {
    "ExecuteTime": {
     "end_time": "2021-02-03T10:14:58.810301Z",
     "start_time": "2021-02-03T10:14:52.357528Z"
    }
   },
   "outputs": [],
   "source": [
    "fullurls=[]\n",
    "triggers=[]\n",
    "for url in urls:\n",
    "    page = requests.get(url)\n",
    "    soup = BeautifulSoup(page.content)\n",
    "    as0=soup.findAll('a')\n",
    "    for a in as0:\n",
    "        if str(a)[9:16]=='cat64ms':\n",
    "            trig=str(a)[17:22]\n",
    "            fullurls.append(url+'cat64ms.'+trig)\n",
    "            trig=trig.lstrip('0')\n",
    "            triggers.append(trig)\n",
    "triggers=np.array(triggers, dtype=int)"
   ]
  },
  {
   "cell_type": "code",
   "execution_count": 125,
   "metadata": {
    "ExecuteTime": {
     "end_time": "2021-02-03T11:51:37.699859Z",
     "start_time": "2021-02-03T10:25:00.545937Z"
    }
   },
   "outputs": [
    {
     "name": "stderr",
     "output_type": "stream",
     "text": [
      "2130it [1:26:37,  2.44s/it]\n"
     ]
    }
   ],
   "source": [
    "#this is the main download, takes about 1.5 hrs\n",
    "dtrigs=duration.index.to_numpy()\n",
    "for i, url in tqdm(enumerate(fullurls)):\n",
    "    if triggers[i] in dtrigs:\n",
    "        tmp_path = download_file(url)\n",
    "        trigname=str(triggers[i])\n",
    "        lc_path = \"LC/GRB\"+trigname+\".csv\"\n",
    "        shutil.move(tmp_path, lc_path)"
   ]
  },
  {
   "cell_type": "markdown",
   "metadata": {},
   "source": [
    "Back to the more important stuff (only include triggers with duration data)"
   ]
  },
  {
   "cell_type": "code",
   "execution_count": 204,
   "metadata": {
    "ExecuteTime": {
     "end_time": "2021-02-03T13:39:01.326046Z",
     "start_time": "2021-02-03T13:39:01.262002Z"
    }
   },
   "outputs": [],
   "source": [
    "trig=dtrigs[1]\n",
    "lc_path = \"LC/GRB\"+str(trig)+\".csv\"\n",
    "data=pd.read_csv(lc_path, skiprows=1, sep=\"\\s+\", engine=\"python\") # the delimiter here is weird but don't change it "
   ]
  },
  {
   "cell_type": "code",
   "execution_count": 205,
   "metadata": {
    "ExecuteTime": {
     "end_time": "2021-02-03T13:39:01.673753Z",
     "start_time": "2021-02-03T13:39:01.543480Z"
    }
   },
   "outputs": [
    {
     "data": {
      "text/plain": [
       "[<matplotlib.lines.Line2D at 0x1e8f6457148>]"
      ]
     },
     "execution_count": 205,
     "metadata": {},
     "output_type": "execute_result"
    },
    {
     "data": {
      "image/png": "[encoded data removed]",
      "text/plain": [
       "<Figure size 432x288 with 1 Axes>"
      ]
     },
     "metadata": {
      "needs_background": "light"
     },
     "output_type": "display_data"
    }
   ],
   "source": [
    "from scipy.signal import medfilt #medfilt is good to get a sense of what's going on with a very noisy signal\n",
    "t=data.index.to_numpy()*0.064 #time resolution\n",
    "plt.plot(t, medfilt(data.iloc[:,1],1)) "
   ]
  },
  {
   "cell_type": "code",
   "execution_count": 206,
   "metadata": {
    "ExecuteTime": {
     "end_time": "2021-02-03T13:39:02.982693Z",
     "start_time": "2021-02-03T13:39:01.895601Z"
    }
   },
   "outputs": [],
   "source": [
    "k=0\n",
    "t0=0\n",
    "it=0\n",
    "for i in range(1,len(data)-1):\n",
    "    if data.iloc[:,0][i]!=data.iloc[:,0][i-1] and data.iloc[:,0][i]!=data.iloc[:,0][i+1] and k==0:\n",
    "        t0,it=t[i], i\n",
    "        k+=1\n"
   ]
  },
  {
   "cell_type": "code",
   "execution_count": 207,
   "metadata": {
    "ExecuteTime": {
     "end_time": "2021-02-03T13:39:03.473557Z",
     "start_time": "2021-02-03T13:39:02.983657Z"
    }
   },
   "outputs": [
    {
     "data": {
      "text/plain": [
       "<matplotlib.legend.Legend at 0x1e8f66ec7c8>"
      ]
     },
     "execution_count": 207,
     "metadata": {},
     "output_type": "execute_result"
    },
    {
     "data": {
      "image/png": "[encoded data removed]",
      "text/plain": [
       "<Figure size 432x288 with 1 Axes>"
      ]
     },
     "metadata": {
      "needs_background": "light"
     },
     "output_type": "display_data"
    }
   ],
   "source": [
    "n=1\n",
    "plt.plot(t, medfilt(data.iloc[:,0],n), label='low')\n",
    "plt.plot(t, medfilt(data.iloc[:,1],n), label='mediumlow')\n",
    "plt.plot(t, medfilt(data.iloc[:,2],n), label='mediumhigh')\n",
    "plt.plot(t, medfilt(data.iloc[:,3],n), label='high')\n",
    "plt.vlines(t0+duration.loc[trig]['start_T90'],np.min(data),np.max(data),linestyle='dashed')\n",
    "plt.vlines(t0+duration.loc[trig]['T90']+duration.loc[trig]['start_T90'],np.min(data),np.max(data),linestyle='dashed')\n",
    "plt.xlim(t0+duration.loc[trig]['start_T90']-1,None)\n",
    "plt.yscale('log')\n",
    "plt.legend()"
   ]
  },
  {
   "cell_type": "code",
   "execution_count": 209,
   "metadata": {
    "ExecuteTime": {
     "end_time": "2021-02-03T13:39:32.469950Z",
     "start_time": "2021-02-03T13:39:32.463963Z"
    }
   },
   "outputs": [
    {
     "data": {
      "text/plain": [
       "(208.576, -208.896)"
      ]
     },
     "execution_count": 209,
     "metadata": {},
     "output_type": "execute_result"
    }
   ],
   "source": [
    "duration.loc[trig]['T90'],duration.loc[trig]['start_T90']"
   ]
  }
 ],
 "metadata": {
  "hide_input": false,
  "kernelspec": {
   "display_name": "Python 3",
   "language": "python",
   "name": "python3"
  },
  "language_info": {
   "codemirror_mode": {
    "name": "ipython",
    "version": 3
   },
   "file_extension": ".py",
   "mimetype": "text/x-python",
   "name": "python",
   "nbconvert_exporter": "python",
   "pygments_lexer": "ipython3",
   "version": "3.8.5"
  }
 },
 "nbformat": 4,
 "nbformat_minor": 4
}
